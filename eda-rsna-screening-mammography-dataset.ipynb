{
 "cells": [
  {
   "cell_type": "markdown",
   "id": "31ceb279",
   "metadata": {
    "papermill": {
     "duration": 0.005171,
     "end_time": "2023-01-08T21:04:46.343800",
     "exception": false,
     "start_time": "2023-01-08T21:04:46.338629",
     "status": "completed"
    },
    "tags": []
   },
   "source": [
    "# **Exploratory Data Analysis - RSNA Screening Mammography Dataset (Breast Cancer Detection Competition)**"
   ]
  },
  {
   "cell_type": "markdown",
   "id": "598b6450",
   "metadata": {
    "papermill": {
     "duration": 0.003515,
     "end_time": "2023-01-08T21:04:46.351370",
     "exception": false,
     "start_time": "2023-01-08T21:04:46.347855",
     "status": "completed"
    },
    "tags": []
   },
   "source": [
    "## **Introduction**\n",
    "The goal of this competition, as outlined in the \"[Desciption](https://www.kaggle.com/competitions/rsna-breast-cancer-detection)\", is to assist the Radiological Society of North America (**RSNA**) in increasing access to early breast cancer detection, with the aim of reducing breast cancer mortality worldwide. In this notebook, we will examine and analyze the dataset provided for this competition.\n"
   ]
  },
  {
   "cell_type": "code",
   "execution_count": 1,
   "id": "9e2ef8b7",
   "metadata": {
    "_cell_guid": "b1076dfc-b9ad-4769-8c92-a6c4dae69d19",
    "_uuid": "8f2839f25d086af736a60e9eeb907d3b93b6e0e5",
    "execution": {
     "iopub.execute_input": "2023-01-08T21:04:46.361282Z",
     "iopub.status.busy": "2023-01-08T21:04:46.360789Z",
     "iopub.status.idle": "2023-01-08T21:04:47.456500Z",
     "shell.execute_reply": "2023-01-08T21:04:47.455151Z"
    },
    "papermill": {
     "duration": 1.104501,
     "end_time": "2023-01-08T21:04:47.459586",
     "exception": false,
     "start_time": "2023-01-08T21:04:46.355085",
     "status": "completed"
    },
    "tags": []
   },
   "outputs": [],
   "source": [
    "# Import necessary packages\n",
    "import pandas as pd\n",
    "import numpy as np\n",
    "import matplotlib.pyplot as plt\n",
    "import os\n",
    "import seaborn as sns\n",
    "\n",
    "%matplotlib inline\n",
    "from matplotlib import cm, dates\n",
    "from matplotlib.ticker import ScalarFormatter\n",
    "from matplotlib.ticker import FuncFormatter"
   ]
  },
  {
   "cell_type": "code",
   "execution_count": 2,
   "id": "fa4d35bb",
   "metadata": {
    "execution": {
     "iopub.execute_input": "2023-01-08T21:04:47.470548Z",
     "iopub.status.busy": "2023-01-08T21:04:47.468951Z",
     "iopub.status.idle": "2023-01-08T21:04:47.496279Z",
     "shell.execute_reply": "2023-01-08T21:04:47.495170Z"
    },
    "papermill": {
     "duration": 0.035495,
     "end_time": "2023-01-08T21:04:47.499101",
     "exception": false,
     "start_time": "2023-01-08T21:04:47.463606",
     "status": "completed"
    },
    "tags": []
   },
   "outputs": [],
   "source": [
    "# Visualisation args\n",
    "cmap = sns.diverging_palette(0, 230, 90, 60, as_cmap=True)\n",
    "barcolors = ['#87B88C','#9ED2A1','#E7E8CB','#48A0C9','#2A58A1','#2E8B55','#DF3659','Grey']\n",
    "barstyle = {\"edgecolor\":\"black\", \"linewidth\":1}\n",
    "heatmap1_args = dict(annot=True, fmt='.0f', square=False, cmap=cm.get_cmap(\"RdGy\", 10), center = 90, vmin=0, vmax=10000, lw=4, cbar=False)\n",
    "heatmap2_args = dict(annot=True, fmt='.3f', square=False, cmap=\"Greens\", center = 0.5, lw=4, cbar=False)\n",
    "heatmap3_args = dict(annot=True, fmt='.0f', square=False, cmap=cmap, center = 9200, lw=4, cbar=False)\n",
    "\n",
    "def hide_axes(this_ax):\n",
    "    this_ax.set_frame_on(False)\n",
    "    this_ax.set_xticks([])\n",
    "    this_ax.set_yticks([])\n",
    "    return this_ax\n",
    "\n",
    "def draw_heatmap1(df,this_ax):\n",
    "    hm = sns.heatmap(df, ax = this_ax, **heatmap1_args)\n",
    "    this_ax.set_yticklabels(this_ax.get_yticklabels(), rotation=0)\n",
    "    this_ax.yaxis.tick_right()\n",
    "    this_ax.yaxis.set_label_position(\"right\")\n",
    "    for axis in ['top','bottom','left','right']:\n",
    "        this_ax.spines[axis].set_visible(True)\n",
    "        this_ax.spines[axis].set_color('black')\n",
    "    return hm \n",
    "\n",
    "def draw_heatmap2(df,this_ax):\n",
    "    hm = sns.heatmap(df, ax = this_ax, **heatmap2_args)\n",
    "    this_ax.set_yticklabels(this_ax.get_yticklabels(), rotation=0)\n",
    "    this_ax.yaxis.tick_right()\n",
    "    this_ax.yaxis.set_label_position(\"right\")\n",
    "    for axis in ['top','bottom','left','right']:\n",
    "        this_ax.spines[axis].set_visible(True)\n",
    "        this_ax.spines[axis].set_color('black')\n",
    "    return hm \n",
    "\n",
    "def draw_heatmap3(df,this_ax):\n",
    "    hm = sns.heatmap(df, ax = this_ax, **heatmap3_args)\n",
    "    this_ax.set_yticklabels(this_ax.get_yticklabels(), rotation=0)\n",
    "    this_ax.yaxis.tick_right()\n",
    "    this_ax.yaxis.set_label_position(\"right\")\n",
    "    for axis in ['top','bottom','left','right']:\n",
    "        this_ax.spines[axis].set_visible(True)\n",
    "        this_ax.spines[axis].set_color('black')\n",
    "    return hm \n",
    "\n",
    "def thousands1(x, pos):\n",
    "    'The two args are the value and tick position'\n",
    "    return '%1.0fK' % (x * 1e-3)\n",
    "\n",
    "formatterK1 = FuncFormatter(thousands1)\n",
    "\n",
    "def thousands2(x, pos):\n",
    "    'The two args are the value and tick position'\n",
    "    return '%1.1fK' % (x * 1e-3)\n",
    "\n",
    "formatterK2 = FuncFormatter(thousands2)"
   ]
  },
  {
   "cell_type": "markdown",
   "id": "03fd25b8",
   "metadata": {
    "papermill": {
     "duration": 0.003529,
     "end_time": "2023-01-08T21:04:47.506639",
     "exception": false,
     "start_time": "2023-01-08T21:04:47.503110",
     "status": "completed"
    },
    "tags": []
   },
   "source": [
    "## **1. Exploration**\n",
    "We will begin with basic exploration of the the training `csv` file, print the number of rows and columns in the dataframe as well as show the first 5 rows."
   ]
  },
  {
   "cell_type": "code",
   "execution_count": 3,
   "id": "4da35f95",
   "metadata": {
    "execution": {
     "iopub.execute_input": "2023-01-08T21:04:47.516244Z",
     "iopub.status.busy": "2023-01-08T21:04:47.515839Z",
     "iopub.status.idle": "2023-01-08T21:04:47.670796Z",
     "shell.execute_reply": "2023-01-08T21:04:47.669513Z"
    },
    "papermill": {
     "duration": 0.162863,
     "end_time": "2023-01-08T21:04:47.673375",
     "exception": false,
     "start_time": "2023-01-08T21:04:47.510512",
     "status": "completed"
    },
    "tags": []
   },
   "outputs": [
    {
     "name": "stdout",
     "output_type": "stream",
     "text": [
      "There are 54706 rows and 14 columns in this data frame\n"
     ]
    },
    {
     "data": {
      "text/html": [
       "<div>\n",
       "<style scoped>\n",
       "    .dataframe tbody tr th:only-of-type {\n",
       "        vertical-align: middle;\n",
       "    }\n",
       "\n",
       "    .dataframe tbody tr th {\n",
       "        vertical-align: top;\n",
       "    }\n",
       "\n",
       "    .dataframe thead th {\n",
       "        text-align: right;\n",
       "    }\n",
       "</style>\n",
       "<table border=\"1\" class=\"dataframe\">\n",
       "  <thead>\n",
       "    <tr style=\"text-align: right;\">\n",
       "      <th></th>\n",
       "      <th>site_id</th>\n",
       "      <th>patient_id</th>\n",
       "      <th>image_id</th>\n",
       "      <th>laterality</th>\n",
       "      <th>view</th>\n",
       "      <th>age</th>\n",
       "      <th>cancer</th>\n",
       "      <th>biopsy</th>\n",
       "      <th>invasive</th>\n",
       "      <th>BIRADS</th>\n",
       "      <th>implant</th>\n",
       "      <th>density</th>\n",
       "      <th>machine_id</th>\n",
       "      <th>difficult_negative_case</th>\n",
       "    </tr>\n",
       "  </thead>\n",
       "  <tbody>\n",
       "    <tr>\n",
       "      <th>0</th>\n",
       "      <td>2</td>\n",
       "      <td>10006</td>\n",
       "      <td>462822612</td>\n",
       "      <td>L</td>\n",
       "      <td>CC</td>\n",
       "      <td>61.0</td>\n",
       "      <td>0</td>\n",
       "      <td>0</td>\n",
       "      <td>0</td>\n",
       "      <td>NaN</td>\n",
       "      <td>0</td>\n",
       "      <td>NaN</td>\n",
       "      <td>29</td>\n",
       "      <td>False</td>\n",
       "    </tr>\n",
       "    <tr>\n",
       "      <th>1</th>\n",
       "      <td>2</td>\n",
       "      <td>10006</td>\n",
       "      <td>1459541791</td>\n",
       "      <td>L</td>\n",
       "      <td>MLO</td>\n",
       "      <td>61.0</td>\n",
       "      <td>0</td>\n",
       "      <td>0</td>\n",
       "      <td>0</td>\n",
       "      <td>NaN</td>\n",
       "      <td>0</td>\n",
       "      <td>NaN</td>\n",
       "      <td>29</td>\n",
       "      <td>False</td>\n",
       "    </tr>\n",
       "    <tr>\n",
       "      <th>2</th>\n",
       "      <td>2</td>\n",
       "      <td>10006</td>\n",
       "      <td>1864590858</td>\n",
       "      <td>R</td>\n",
       "      <td>MLO</td>\n",
       "      <td>61.0</td>\n",
       "      <td>0</td>\n",
       "      <td>0</td>\n",
       "      <td>0</td>\n",
       "      <td>NaN</td>\n",
       "      <td>0</td>\n",
       "      <td>NaN</td>\n",
       "      <td>29</td>\n",
       "      <td>False</td>\n",
       "    </tr>\n",
       "    <tr>\n",
       "      <th>3</th>\n",
       "      <td>2</td>\n",
       "      <td>10006</td>\n",
       "      <td>1874946579</td>\n",
       "      <td>R</td>\n",
       "      <td>CC</td>\n",
       "      <td>61.0</td>\n",
       "      <td>0</td>\n",
       "      <td>0</td>\n",
       "      <td>0</td>\n",
       "      <td>NaN</td>\n",
       "      <td>0</td>\n",
       "      <td>NaN</td>\n",
       "      <td>29</td>\n",
       "      <td>False</td>\n",
       "    </tr>\n",
       "    <tr>\n",
       "      <th>4</th>\n",
       "      <td>2</td>\n",
       "      <td>10011</td>\n",
       "      <td>220375232</td>\n",
       "      <td>L</td>\n",
       "      <td>CC</td>\n",
       "      <td>55.0</td>\n",
       "      <td>0</td>\n",
       "      <td>0</td>\n",
       "      <td>0</td>\n",
       "      <td>0.0</td>\n",
       "      <td>0</td>\n",
       "      <td>NaN</td>\n",
       "      <td>21</td>\n",
       "      <td>True</td>\n",
       "    </tr>\n",
       "  </tbody>\n",
       "</table>\n",
       "</div>"
      ],
      "text/plain": [
       "   site_id  patient_id    image_id laterality view   age  cancer  biopsy  \\\n",
       "0        2       10006   462822612          L   CC  61.0       0       0   \n",
       "1        2       10006  1459541791          L  MLO  61.0       0       0   \n",
       "2        2       10006  1864590858          R  MLO  61.0       0       0   \n",
       "3        2       10006  1874946579          R   CC  61.0       0       0   \n",
       "4        2       10011   220375232          L   CC  55.0       0       0   \n",
       "\n",
       "   invasive  BIRADS  implant density  machine_id  difficult_negative_case  \n",
       "0         0     NaN        0     NaN          29                    False  \n",
       "1         0     NaN        0     NaN          29                    False  \n",
       "2         0     NaN        0     NaN          29                    False  \n",
       "3         0     NaN        0     NaN          29                    False  \n",
       "4         0     0.0        0     NaN          21                     True  "
      ]
     },
     "execution_count": 3,
     "metadata": {},
     "output_type": "execute_result"
    }
   ],
   "source": [
    "train_df = pd.read_csv(\"/kaggle/input/rsna-breast-cancer-detection/train.csv\")\n",
    "print(f'There are {train_df.shape[0]} rows and {train_df.shape[1]} columns in this data frame')\n",
    "train_df.head()"
   ]
  },
  {
   "cell_type": "markdown",
   "id": "a02a80f3",
   "metadata": {
    "papermill": {
     "duration": 0.003964,
     "end_time": "2023-01-08T21:04:47.681769",
     "exception": false,
     "start_time": "2023-01-08T21:04:47.677805",
     "status": "completed"
    },
    "tags": []
   },
   "source": [
    "A brief review of each of the columns shows that each patient seems to have multiple images taken, the orientations of the image taken indicated by columns `laterality` / `view` , the diagnose given in columns `cancer`,`biopsy`,`invasive` are related to the specific images referenced in column `image_id` and the related patient in column `patient_id`."
   ]
  },
  {
   "cell_type": "markdown",
   "id": "3a18976f",
   "metadata": {
    "papermill": {
     "duration": 0.004059,
     "end_time": "2023-01-08T21:04:47.690075",
     "exception": false,
     "start_time": "2023-01-08T21:04:47.686016",
     "status": "completed"
    },
    "tags": []
   },
   "source": [
    "## **1.1 Further Data Check**\n",
    "In this section we will check for `null`, `unique` and `duplicated` values will allow for better understanding of the data held within the subject `csv` file."
   ]
  },
  {
   "cell_type": "code",
   "execution_count": 4,
   "id": "ff7ad82e",
   "metadata": {
    "execution": {
     "iopub.execute_input": "2023-01-08T21:04:47.700362Z",
     "iopub.status.busy": "2023-01-08T21:04:47.699954Z",
     "iopub.status.idle": "2023-01-08T21:04:48.959330Z",
     "shell.execute_reply": "2023-01-08T21:04:48.958143Z"
    },
    "papermill": {
     "duration": 1.267389,
     "end_time": "2023-01-08T21:04:48.961839",
     "exception": false,
     "start_time": "2023-01-08T21:04:47.694450",
     "status": "completed"
    },
    "tags": []
   },
   "outputs": [
    {
     "name": "stdout",
     "output_type": "stream",
     "text": [
      "There is a total of 0 duplicated rows\n"
     ]
    },
    {
     "data": {
      "image/png": "[encoded data removed]",
      "text/plain": [
       "<Figure size 648x648 with 2 Axes>"
      ]
     },
     "metadata": {
      "needs_background": "light"
     },
     "output_type": "display_data"
    },
    {
     "data": {
      "text/html": [
       "<div>\n",
       "<style scoped>\n",
       "    .dataframe tbody tr th:only-of-type {\n",
       "        vertical-align: middle;\n",
       "    }\n",
       "\n",
       "    .dataframe tbody tr th {\n",
       "        vertical-align: top;\n",
       "    }\n",
       "\n",
       "    .dataframe thead th {\n",
       "        text-align: right;\n",
       "    }\n",
       "</style>\n",
       "<table border=\"1\" class=\"dataframe\">\n",
       "  <thead>\n",
       "    <tr style=\"text-align: right;\">\n",
       "      <th></th>\n",
       "      <th>site_id</th>\n",
       "      <th>patient_id</th>\n",
       "      <th>image_id</th>\n",
       "      <th>laterality</th>\n",
       "      <th>view</th>\n",
       "      <th>age</th>\n",
       "      <th>cancer</th>\n",
       "      <th>biopsy</th>\n",
       "      <th>invasive</th>\n",
       "      <th>BIRADS</th>\n",
       "      <th>implant</th>\n",
       "      <th>density</th>\n",
       "      <th>machine_id</th>\n",
       "      <th>difficult_negative_case</th>\n",
       "    </tr>\n",
       "  </thead>\n",
       "  <tbody>\n",
       "    <tr>\n",
       "      <th>Null Values</th>\n",
       "      <td>0</td>\n",
       "      <td>0</td>\n",
       "      <td>0</td>\n",
       "      <td>0</td>\n",
       "      <td>0</td>\n",
       "      <td>37</td>\n",
       "      <td>0</td>\n",
       "      <td>0</td>\n",
       "      <td>0</td>\n",
       "      <td>28420</td>\n",
       "      <td>0</td>\n",
       "      <td>25236</td>\n",
       "      <td>0</td>\n",
       "      <td>0</td>\n",
       "    </tr>\n",
       "    <tr>\n",
       "      <th>Unique Values</th>\n",
       "      <td>2</td>\n",
       "      <td>11913</td>\n",
       "      <td>54706</td>\n",
       "      <td>2</td>\n",
       "      <td>6</td>\n",
       "      <td>63</td>\n",
       "      <td>2</td>\n",
       "      <td>2</td>\n",
       "      <td>2</td>\n",
       "      <td>3</td>\n",
       "      <td>2</td>\n",
       "      <td>4</td>\n",
       "      <td>10</td>\n",
       "      <td>2</td>\n",
       "    </tr>\n",
       "  </tbody>\n",
       "</table>\n",
       "</div>"
      ],
      "text/plain": [
       "               site_id  patient_id  image_id  laterality  view  age  cancer  \\\n",
       "Null Values          0           0         0           0     0   37       0   \n",
       "Unique Values        2       11913     54706           2     6   63       2   \n",
       "\n",
       "               biopsy  invasive  BIRADS  implant  density  machine_id  \\\n",
       "Null Values         0         0   28420        0    25236           0   \n",
       "Unique Values       2         2       3        2        4          10   \n",
       "\n",
       "               difficult_negative_case  \n",
       "Null Values                          0  \n",
       "Unique Values                        2  "
      ]
     },
     "execution_count": 4,
     "metadata": {},
     "output_type": "execute_result"
    }
   ],
   "source": [
    "# Duplicate Values\n",
    "print(f\"There is a total of {train_df.duplicated().replace({True:1,False:0}).sum()} duplicated rows\")\n",
    "\n",
    "# Create seperate dataframe for null values and unique values\n",
    "na_vals=pd.DataFrame({'Null Values':train_df.isna().sum()})\n",
    "unique_vals=pd.DataFrame({'Unique Values':train_df.nunique()})\n",
    "\n",
    "# Visualisation \n",
    "fig, ax=plt.subplots(2,1, figsize=(9,9), gridspec_kw={'hspace':0.9})\n",
    "na_vals.plot.bar(color=barcolors[3], **barstyle, ax=ax[0])\n",
    "ax[0].set_title('Breast Cancer Dataset (Null Values Check)')\n",
    "ax[0].set_facecolor(\"white\")\n",
    "ax[0].set_yscale('log')\n",
    "ax[0].set_xticklabels(ax[0].get_xticklabels(), rotation=90)\n",
    "\n",
    "unique_vals.plot.bar(color=barcolors[6], **barstyle, ax=ax[1])\n",
    "ax[1].set_title('Breast Cancer Dataset (Unique Values Check)')\n",
    "ax[1].set_facecolor(\"white\")\n",
    "ax[1].set_yscale('log')\n",
    "ax[1].set_xticklabels(ax[1].get_xticklabels(), rotation=90)\n",
    "plt.show()\n",
    "\n",
    "# Print dataframes\n",
    "pd.concat([na_vals, unique_vals], axis=1).T"
   ]
  },
  {
   "cell_type": "markdown",
   "id": "92b38d40",
   "metadata": {
    "papermill": {
     "duration": 0.004741,
     "end_time": "2023-01-08T21:04:48.971871",
     "exception": false,
     "start_time": "2023-01-08T21:04:48.967130",
     "status": "completed"
    },
    "tags": []
   },
   "source": [
    "Columns `age`, `BIRADS` and `density` contain null values with the most significant numbers in the later two mentioned columns. "
   ]
  },
  {
   "cell_type": "code",
   "execution_count": 5,
   "id": "1b6bbda4",
   "metadata": {
    "execution": {
     "iopub.execute_input": "2023-01-08T21:04:48.986372Z",
     "iopub.status.busy": "2023-01-08T21:04:48.985903Z",
     "iopub.status.idle": "2023-01-08T21:04:48.999865Z",
     "shell.execute_reply": "2023-01-08T21:04:48.998841Z"
    },
    "papermill": {
     "duration": 0.024267,
     "end_time": "2023-01-08T21:04:49.002437",
     "exception": false,
     "start_time": "2023-01-08T21:04:48.978170",
     "status": "completed"
    },
    "tags": []
   },
   "outputs": [],
   "source": [
    "import matplotlib.pyplot as plt\n",
    "import pandas as pd\n",
    "\n",
    "def plot_ones_zeros(df, col1, col2, number):\n",
    "    # Get the unique values in col2\n",
    "    unique_values = df[col2].unique()\n",
    "    \n",
    "    # Set up the plot\n",
    "    fig, ax = plt.subplots(figsize=(9, 4))\n",
    "    ax.set_xlabel(col2)\n",
    "    ax.set_ylabel('Count')\n",
    "    ax.set_title(f'Breast Cancer Dataset (Data Imbalance Check #{number})')\n",
    "    \n",
    "    # Create a bar plot for each value in col2\n",
    "    for i, value in enumerate(unique_values):\n",
    "        # Count the number of 1s and 0s in col1 where col2 is equal to the current value\n",
    "        ones = df[(df[col1] == 1) & (df[col2] == value)].shape[0]\n",
    "        zeros = df[(df[col1] == 0) & (df[col2] == value)].shape[0]\n",
    "        \n",
    "        # Plot the bars\n",
    "        ax.bar(i-0.2, ones, 0.4, color = barcolors[1], **barstyle,)\n",
    "        ax.bar(i+0.2, zeros, 0.4, color = barcolors[2], **barstyle,)\n",
    "    \n",
    "    # Add a legend\n",
    "    ax.legend(['ones', 'zeros'])\n",
    "    \n",
    "    # Show the plot\n",
    "    plt.xticks(range(len(unique_values)), unique_values)\n",
    "    plt.show()\n",
    "    \n",
    "def plot_ones_zeros_ratio(df, col1, col2, number):\n",
    "    # Get the unique values in col2\n",
    "    unique_values = df[col2].unique()\n",
    "    \n",
    "    # Set up the plot\n",
    "    fig, ax = plt.subplots(figsize=(9, 4))\n",
    "    ax.set_xlabel(col2)\n",
    "    ax.set_ylabel('Percentage')\n",
    "    ax.set_title(f'Breast Cancer Dataset (Data Imbalance Check #{number})')\n",
    "    \n",
    "    # Create a bar plot for each value in col2\n",
    "    for i, value in enumerate(unique_values):\n",
    "        # Count the number of 1s and 0s in col1 where col2 is equal to the current value\n",
    "        ones = df[(df[col1] == 1) & (df[col2] == value)].shape[0]\n",
    "        zeros = df[(df[col1] == 0) & (df[col2] == value)].shape[0]\n",
    "        ratio = ones/zeros\n",
    "        \n",
    "        # Plot the bars\n",
    "        ax.bar(i, ones/zeros, 0.4, color = barcolors[1], **barstyle,)\n",
    "    \n",
    "    # Add a legend\n",
    "    ax.legend(['ratio'])\n",
    "    \n",
    "    # Show the plot\n",
    "    plt.xticks(range(len(unique_values)), unique_values)\n",
    "    plt.show()"
   ]
  },
  {
   "cell_type": "code",
   "execution_count": 6,
   "id": "5149e6fd",
   "metadata": {
    "execution": {
     "iopub.execute_input": "2023-01-08T21:04:49.014484Z",
     "iopub.status.busy": "2023-01-08T21:04:49.014079Z",
     "iopub.status.idle": "2023-01-08T21:04:49.485573Z",
     "shell.execute_reply": "2023-01-08T21:04:49.484413Z"
    },
    "papermill": {
     "duration": 0.480371,
     "end_time": "2023-01-08T21:04:49.488006",
     "exception": false,
     "start_time": "2023-01-08T21:04:49.007635",
     "status": "completed"
    },
    "tags": []
   },
   "outputs": [
    {
     "data": {
      "image/png": "[encoded data removed]",
      "text/plain": [
       "<Figure size 648x288 with 1 Axes>"
      ]
     },
     "metadata": {
      "needs_background": "light"
     },
     "output_type": "display_data"
    },
    {
     "data": {
      "image/png": "[encoded data removed]",
      "text/plain": [
       "<Figure size 648x288 with 1 Axes>"
      ]
     },
     "metadata": {
      "needs_background": "light"
     },
     "output_type": "display_data"
    }
   ],
   "source": [
    "plot_ones_zeros(train_df, 'cancer', 'machine_id',1)\n",
    "plot_ones_zeros_ratio(train_df, 'cancer', 'machine_id',2)"
   ]
  },
  {
   "cell_type": "code",
   "execution_count": 7,
   "id": "d19e1c11",
   "metadata": {
    "execution": {
     "iopub.execute_input": "2023-01-08T21:04:49.501864Z",
     "iopub.status.busy": "2023-01-08T21:04:49.501459Z",
     "iopub.status.idle": "2023-01-08T21:04:49.931830Z",
     "shell.execute_reply": "2023-01-08T21:04:49.930708Z"
    },
    "papermill": {
     "duration": 0.440637,
     "end_time": "2023-01-08T21:04:49.934672",
     "exception": false,
     "start_time": "2023-01-08T21:04:49.494035",
     "status": "completed"
    },
    "tags": []
   },
   "outputs": [
    {
     "data": {
      "image/png": "[encoded data removed]",
      "text/plain": [
       "<Figure size 648x288 with 1 Axes>"
      ]
     },
     "metadata": {
      "needs_background": "light"
     },
     "output_type": "display_data"
    },
    {
     "data": {
      "image/png": "[encoded data removed]",
      "text/plain": [
       "<Figure size 648x288 with 1 Axes>"
      ]
     },
     "metadata": {
      "needs_background": "light"
     },
     "output_type": "display_data"
    }
   ],
   "source": [
    "plot_ones_zeros(train_df, 'cancer', 'view',3)\n",
    "plot_ones_zeros(train_df, 'cancer', 'laterality',4)"
   ]
  },
  {
   "cell_type": "code",
   "execution_count": null,
   "id": "4d505a4e",
   "metadata": {
    "papermill": {
     "duration": 0.006161,
     "end_time": "2023-01-08T21:04:49.947511",
     "exception": false,
     "start_time": "2023-01-08T21:04:49.941350",
     "status": "completed"
    },
    "tags": []
   },
   "outputs": [],
   "source": []
  }
 ],
 "metadata": {
  "kernelspec": {
   "display_name": "Python 3",
   "language": "python",
   "name": "python3"
  },
  "language_info": {
   "codemirror_mode": {
    "name": "ipython",
    "version": 3
   },
   "file_extension": ".py",
   "mimetype": "text/x-python",
   "name": "python",
   "nbconvert_exporter": "python",
   "pygments_lexer": "ipython3",
   "version": "3.7.12"
  },
  "papermill": {
   "default_parameters": {},
   "duration": 13.293128,
   "end_time": "2023-01-08T21:04:50.777991",
   "environment_variables": {},
   "exception": null,
   "input_path": "__notebook__.ipynb",
   "output_path": "__notebook__.ipynb",
   "parameters": {},
   "start_time": "2023-01-08T21:04:37.484863",
   "version": "2.3.4"
  }
 },
 "nbformat": 4,
 "nbformat_minor": 5
}
