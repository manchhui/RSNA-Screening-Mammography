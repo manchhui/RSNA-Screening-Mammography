{
 "cells": [
  {
   "cell_type": "markdown",
   "id": "f7648e4a",
   "metadata": {
    "papermill": {
     "duration": 0.005412,
     "end_time": "2023-01-09T21:01:11.880540",
     "exception": false,
     "start_time": "2023-01-09T21:01:11.875128",
     "status": "completed"
    },
    "tags": []
   },
   "source": [
    "# **Exploratory Data Analysis - RSNA Screening Mammography Dataset (Breast Cancer Detection Competition)**"
   ]
  },
  {
   "cell_type": "markdown",
   "id": "7eae2802",
   "metadata": {
    "papermill": {
     "duration": 0.004167,
     "end_time": "2023-01-09T21:01:11.889273",
     "exception": false,
     "start_time": "2023-01-09T21:01:11.885106",
     "status": "completed"
    },
    "tags": []
   },
   "source": [
    "## **Introduction**\n",
    "The goal of this competition, as outlined in the \"[Desciption](https://www.kaggle.com/competitions/rsna-breast-cancer-detection)\", is to assist the Radiological Society of North America (**RSNA**) in increasing access to early breast cancer detection, with the aim of reducing breast cancer mortality worldwide. In this notebook, we will examine and analyze the dataset provided for this competition.\n"
   ]
  },
  {
   "cell_type": "code",
   "execution_count": 1,
   "id": "37376646",
   "metadata": {
    "_cell_guid": "b1076dfc-b9ad-4769-8c92-a6c4dae69d19",
    "_uuid": "8f2839f25d086af736a60e9eeb907d3b93b6e0e5",
    "execution": {
     "iopub.execute_input": "2023-01-09T21:01:11.900570Z",
     "iopub.status.busy": "2023-01-09T21:01:11.899838Z",
     "iopub.status.idle": "2023-01-09T21:01:13.016741Z",
     "shell.execute_reply": "2023-01-09T21:01:13.015600Z"
    },
    "papermill": {
     "duration": 1.125374,
     "end_time": "2023-01-09T21:01:13.019149",
     "exception": false,
     "start_time": "2023-01-09T21:01:11.893775",
     "status": "completed"
    },
    "tags": []
   },
   "outputs": [],
   "source": [
    "# Import necessary packages\n",
    "import pandas as pd\n",
    "import numpy as np\n",
    "import matplotlib.pyplot as plt\n",
    "import os\n",
    "import seaborn as sns\n",
    "\n",
    "%matplotlib inline\n",
    "from matplotlib import cm, dates\n",
    "from matplotlib.ticker import ScalarFormatter\n",
    "from matplotlib.ticker import FuncFormatter"
   ]
  },
  {
   "cell_type": "code",
   "execution_count": 2,
   "id": "026ca773",
   "metadata": {
    "execution": {
     "iopub.execute_input": "2023-01-09T21:01:13.030776Z",
     "iopub.status.busy": "2023-01-09T21:01:13.030170Z",
     "iopub.status.idle": "2023-01-09T21:01:13.051697Z",
     "shell.execute_reply": "2023-01-09T21:01:13.050620Z"
    },
    "papermill": {
     "duration": 0.030207,
     "end_time": "2023-01-09T21:01:13.054128",
     "exception": false,
     "start_time": "2023-01-09T21:01:13.023921",
     "status": "completed"
    },
    "tags": []
   },
   "outputs": [],
   "source": [
    "# Visualisation args\n",
    "cmap = sns.diverging_palette(0, 230, 90, 60, as_cmap=True)\n",
    "barcolors = ['#87B88C','#9ED2A1','#E7E8CB','#48A0C9','#2A58A1','#2E8B55','#DF3659','Grey']\n",
    "barstyle = {\"edgecolor\":\"black\", \"linewidth\":1}\n",
    "heatmap1_args = dict(annot=True, fmt='.0f', square=False, cmap=cm.get_cmap(\"RdGy\", 10), center = 90, vmin=0, vmax=10000, lw=4, cbar=False)\n",
    "heatmap2_args = dict(annot=True, fmt='.3f', square=False, cmap=\"Greens\", center = 0.5, lw=4, cbar=False)\n",
    "heatmap3_args = dict(annot=True, fmt='.0f', square=False, cmap=cmap, center = 9200, lw=4, cbar=False)\n",
    "\n",
    "def hide_axes(this_ax):\n",
    "    this_ax.set_frame_on(False)\n",
    "    this_ax.set_xticks([])\n",
    "    this_ax.set_yticks([])\n",
    "    return this_ax\n",
    "\n",
    "def draw_heatmap1(df,this_ax):\n",
    "    hm = sns.heatmap(df, ax = this_ax, **heatmap1_args)\n",
    "    this_ax.set_yticklabels(this_ax.get_yticklabels(), rotation=0)\n",
    "    this_ax.yaxis.tick_right()\n",
    "    this_ax.yaxis.set_label_position(\"right\")\n",
    "    for axis in ['top','bottom','left','right']:\n",
    "        this_ax.spines[axis].set_visible(True)\n",
    "        this_ax.spines[axis].set_color('black')\n",
    "    return hm \n",
    "\n",
    "def draw_heatmap2(df,this_ax):\n",
    "    hm = sns.heatmap(df, ax = this_ax, **heatmap2_args)\n",
    "    this_ax.set_yticklabels(this_ax.get_yticklabels(), rotation=0)\n",
    "    this_ax.yaxis.tick_right()\n",
    "    this_ax.yaxis.set_label_position(\"right\")\n",
    "    for axis in ['top','bottom','left','right']:\n",
    "        this_ax.spines[axis].set_visible(True)\n",
    "        this_ax.spines[axis].set_color('black')\n",
    "    return hm \n",
    "\n",
    "def draw_heatmap3(df,this_ax):\n",
    "    hm = sns.heatmap(df, ax = this_ax, **heatmap3_args)\n",
    "    this_ax.set_yticklabels(this_ax.get_yticklabels(), rotation=0)\n",
    "    this_ax.yaxis.tick_right()\n",
    "    this_ax.yaxis.set_label_position(\"right\")\n",
    "    for axis in ['top','bottom','left','right']:\n",
    "        this_ax.spines[axis].set_visible(True)\n",
    "        this_ax.spines[axis].set_color('black')\n",
    "    return hm \n",
    "\n",
    "def thousands1(x, pos):\n",
    "    'The two args are the value and tick position'\n",
    "    return '%1.0fK' % (x * 1e-3)\n",
    "\n",
    "formatterK1 = FuncFormatter(thousands1)\n",
    "\n",
    "def thousands2(x, pos):\n",
    "    'The two args are the value and tick position'\n",
    "    return '%1.1fK' % (x * 1e-3)\n",
    "\n",
    "formatterK2 = FuncFormatter(thousands2)"
   ]
  },
  {
   "cell_type": "markdown",
   "id": "79bab4d6",
   "metadata": {
    "papermill": {
     "duration": 0.004468,
     "end_time": "2023-01-09T21:01:13.063456",
     "exception": false,
     "start_time": "2023-01-09T21:01:13.058988",
     "status": "completed"
    },
    "tags": []
   },
   "source": [
    "## **1. Exploration**\n",
    "We will begin with basic exploration of the the training `csv` file, print the number of rows and columns in the dataframe as well as show the first 5 rows."
   ]
  },
  {
   "cell_type": "code",
   "execution_count": 3,
   "id": "068c3170",
   "metadata": {
    "execution": {
     "iopub.execute_input": "2023-01-09T21:01:13.075379Z",
     "iopub.status.busy": "2023-01-09T21:01:13.074308Z",
     "iopub.status.idle": "2023-01-09T21:01:13.192998Z",
     "shell.execute_reply": "2023-01-09T21:01:13.191982Z"
    },
    "papermill": {
     "duration": 0.126539,
     "end_time": "2023-01-09T21:01:13.194798",
     "exception": false,
     "start_time": "2023-01-09T21:01:13.068259",
     "status": "completed"
    },
    "tags": []
   },
   "outputs": [
    {
     "name": "stdout",
     "output_type": "stream",
     "text": [
      "There are 54706 rows and 14 columns in this data frame\n"
     ]
    },
    {
     "data": {
      "text/html": [
       "<div>\n",
       "<style scoped>\n",
       "    .dataframe tbody tr th:only-of-type {\n",
       "        vertical-align: middle;\n",
       "    }\n",
       "\n",
       "    .dataframe tbody tr th {\n",
       "        vertical-align: top;\n",
       "    }\n",
       "\n",
       "    .dataframe thead th {\n",
       "        text-align: right;\n",
       "    }\n",
       "</style>\n",
       "<table border=\"1\" class=\"dataframe\">\n",
       "  <thead>\n",
       "    <tr style=\"text-align: right;\">\n",
       "      <th></th>\n",
       "      <th>site_id</th>\n",
       "      <th>patient_id</th>\n",
       "      <th>image_id</th>\n",
       "      <th>laterality</th>\n",
       "      <th>view</th>\n",
       "      <th>age</th>\n",
       "      <th>cancer</th>\n",
       "      <th>biopsy</th>\n",
       "      <th>invasive</th>\n",
       "      <th>BIRADS</th>\n",
       "      <th>implant</th>\n",
       "      <th>density</th>\n",
       "      <th>machine_id</th>\n",
       "      <th>difficult_negative_case</th>\n",
       "    </tr>\n",
       "  </thead>\n",
       "  <tbody>\n",
       "    <tr>\n",
       "      <th>0</th>\n",
       "      <td>2</td>\n",
       "      <td>10006</td>\n",
       "      <td>462822612</td>\n",
       "      <td>L</td>\n",
       "      <td>CC</td>\n",
       "      <td>61.0</td>\n",
       "      <td>0</td>\n",
       "      <td>0</td>\n",
       "      <td>0</td>\n",
       "      <td>NaN</td>\n",
       "      <td>0</td>\n",
       "      <td>NaN</td>\n",
       "      <td>29</td>\n",
       "      <td>False</td>\n",
       "    </tr>\n",
       "    <tr>\n",
       "      <th>1</th>\n",
       "      <td>2</td>\n",
       "      <td>10006</td>\n",
       "      <td>1459541791</td>\n",
       "      <td>L</td>\n",
       "      <td>MLO</td>\n",
       "      <td>61.0</td>\n",
       "      <td>0</td>\n",
       "      <td>0</td>\n",
       "      <td>0</td>\n",
       "      <td>NaN</td>\n",
       "      <td>0</td>\n",
       "      <td>NaN</td>\n",
       "      <td>29</td>\n",
       "      <td>False</td>\n",
       "    </tr>\n",
       "    <tr>\n",
       "      <th>2</th>\n",
       "      <td>2</td>\n",
       "      <td>10006</td>\n",
       "      <td>1864590858</td>\n",
       "      <td>R</td>\n",
       "      <td>MLO</td>\n",
       "      <td>61.0</td>\n",
       "      <td>0</td>\n",
       "      <td>0</td>\n",
       "      <td>0</td>\n",
       "      <td>NaN</td>\n",
       "      <td>0</td>\n",
       "      <td>NaN</td>\n",
       "      <td>29</td>\n",
       "      <td>False</td>\n",
       "    </tr>\n",
       "    <tr>\n",
       "      <th>3</th>\n",
       "      <td>2</td>\n",
       "      <td>10006</td>\n",
       "      <td>1874946579</td>\n",
       "      <td>R</td>\n",
       "      <td>CC</td>\n",
       "      <td>61.0</td>\n",
       "      <td>0</td>\n",
       "      <td>0</td>\n",
       "      <td>0</td>\n",
       "      <td>NaN</td>\n",
       "      <td>0</td>\n",
       "      <td>NaN</td>\n",
       "      <td>29</td>\n",
       "      <td>False</td>\n",
       "    </tr>\n",
       "    <tr>\n",
       "      <th>4</th>\n",
       "      <td>2</td>\n",
       "      <td>10011</td>\n",
       "      <td>220375232</td>\n",
       "      <td>L</td>\n",
       "      <td>CC</td>\n",
       "      <td>55.0</td>\n",
       "      <td>0</td>\n",
       "      <td>0</td>\n",
       "      <td>0</td>\n",
       "      <td>0.0</td>\n",
       "      <td>0</td>\n",
       "      <td>NaN</td>\n",
       "      <td>21</td>\n",
       "      <td>True</td>\n",
       "    </tr>\n",
       "    <tr>\n",
       "      <th>5</th>\n",
       "      <td>2</td>\n",
       "      <td>10011</td>\n",
       "      <td>270344397</td>\n",
       "      <td>L</td>\n",
       "      <td>MLO</td>\n",
       "      <td>55.0</td>\n",
       "      <td>0</td>\n",
       "      <td>0</td>\n",
       "      <td>0</td>\n",
       "      <td>0.0</td>\n",
       "      <td>0</td>\n",
       "      <td>NaN</td>\n",
       "      <td>21</td>\n",
       "      <td>True</td>\n",
       "    </tr>\n",
       "    <tr>\n",
       "      <th>6</th>\n",
       "      <td>2</td>\n",
       "      <td>10011</td>\n",
       "      <td>541722628</td>\n",
       "      <td>R</td>\n",
       "      <td>CC</td>\n",
       "      <td>55.0</td>\n",
       "      <td>0</td>\n",
       "      <td>0</td>\n",
       "      <td>0</td>\n",
       "      <td>NaN</td>\n",
       "      <td>0</td>\n",
       "      <td>NaN</td>\n",
       "      <td>21</td>\n",
       "      <td>False</td>\n",
       "    </tr>\n",
       "    <tr>\n",
       "      <th>7</th>\n",
       "      <td>2</td>\n",
       "      <td>10011</td>\n",
       "      <td>1031443799</td>\n",
       "      <td>R</td>\n",
       "      <td>MLO</td>\n",
       "      <td>55.0</td>\n",
       "      <td>0</td>\n",
       "      <td>0</td>\n",
       "      <td>0</td>\n",
       "      <td>NaN</td>\n",
       "      <td>0</td>\n",
       "      <td>NaN</td>\n",
       "      <td>21</td>\n",
       "      <td>False</td>\n",
       "    </tr>\n",
       "    <tr>\n",
       "      <th>8</th>\n",
       "      <td>2</td>\n",
       "      <td>10025</td>\n",
       "      <td>562340703</td>\n",
       "      <td>L</td>\n",
       "      <td>CC</td>\n",
       "      <td>75.0</td>\n",
       "      <td>0</td>\n",
       "      <td>0</td>\n",
       "      <td>0</td>\n",
       "      <td>NaN</td>\n",
       "      <td>0</td>\n",
       "      <td>NaN</td>\n",
       "      <td>29</td>\n",
       "      <td>False</td>\n",
       "    </tr>\n",
       "    <tr>\n",
       "      <th>9</th>\n",
       "      <td>2</td>\n",
       "      <td>10025</td>\n",
       "      <td>1365269360</td>\n",
       "      <td>L</td>\n",
       "      <td>MLO</td>\n",
       "      <td>75.0</td>\n",
       "      <td>0</td>\n",
       "      <td>0</td>\n",
       "      <td>0</td>\n",
       "      <td>NaN</td>\n",
       "      <td>0</td>\n",
       "      <td>NaN</td>\n",
       "      <td>29</td>\n",
       "      <td>False</td>\n",
       "    </tr>\n",
       "  </tbody>\n",
       "</table>\n",
       "</div>"
      ],
      "text/plain": [
       "   site_id  patient_id    image_id laterality view   age  cancer  biopsy  \\\n",
       "0        2       10006   462822612          L   CC  61.0       0       0   \n",
       "1        2       10006  1459541791          L  MLO  61.0       0       0   \n",
       "2        2       10006  1864590858          R  MLO  61.0       0       0   \n",
       "3        2       10006  1874946579          R   CC  61.0       0       0   \n",
       "4        2       10011   220375232          L   CC  55.0       0       0   \n",
       "5        2       10011   270344397          L  MLO  55.0       0       0   \n",
       "6        2       10011   541722628          R   CC  55.0       0       0   \n",
       "7        2       10011  1031443799          R  MLO  55.0       0       0   \n",
       "8        2       10025   562340703          L   CC  75.0       0       0   \n",
       "9        2       10025  1365269360          L  MLO  75.0       0       0   \n",
       "\n",
       "   invasive  BIRADS  implant density  machine_id  difficult_negative_case  \n",
       "0         0     NaN        0     NaN          29                    False  \n",
       "1         0     NaN        0     NaN          29                    False  \n",
       "2         0     NaN        0     NaN          29                    False  \n",
       "3         0     NaN        0     NaN          29                    False  \n",
       "4         0     0.0        0     NaN          21                     True  \n",
       "5         0     0.0        0     NaN          21                     True  \n",
       "6         0     NaN        0     NaN          21                    False  \n",
       "7         0     NaN        0     NaN          21                    False  \n",
       "8         0     NaN        0     NaN          29                    False  \n",
       "9         0     NaN        0     NaN          29                    False  "
      ]
     },
     "execution_count": 3,
     "metadata": {},
     "output_type": "execute_result"
    }
   ],
   "source": [
    "train_df = pd.read_csv(\"/kaggle/input/rsna-breast-cancer-detection/train.csv\")\n",
    "print(f'There are {train_df.shape[0]} rows and {train_df.shape[1]} columns in this data frame')\n",
    "train_df.head(10)"
   ]
  },
  {
   "cell_type": "code",
   "execution_count": 4,
   "id": "e6661f8e",
   "metadata": {
    "execution": {
     "iopub.execute_input": "2023-01-09T21:01:13.208121Z",
     "iopub.status.busy": "2023-01-09T21:01:13.207586Z",
     "iopub.status.idle": "2023-01-09T21:01:13.231904Z",
     "shell.execute_reply": "2023-01-09T21:01:13.230089Z"
    },
    "papermill": {
     "duration": 0.034279,
     "end_time": "2023-01-09T21:01:13.234305",
     "exception": false,
     "start_time": "2023-01-09T21:01:13.200026",
     "status": "completed"
    },
    "tags": []
   },
   "outputs": [],
   "source": [
    "test=train_df.dropna()"
   ]
  },
  {
   "cell_type": "code",
   "execution_count": 5,
   "id": "30e356a0",
   "metadata": {
    "execution": {
     "iopub.execute_input": "2023-01-09T21:01:13.246528Z",
     "iopub.status.busy": "2023-01-09T21:01:13.246097Z",
     "iopub.status.idle": "2023-01-09T21:01:13.264789Z",
     "shell.execute_reply": "2023-01-09T21:01:13.263656Z"
    },
    "papermill": {
     "duration": 0.027633,
     "end_time": "2023-01-09T21:01:13.267151",
     "exception": false,
     "start_time": "2023-01-09T21:01:13.239518",
     "status": "completed"
    },
    "tags": []
   },
   "outputs": [
    {
     "data": {
      "text/plain": [
       "array(['C', 'D', 'B', 'A'], dtype=object)"
      ]
     },
     "execution_count": 5,
     "metadata": {},
     "output_type": "execute_result"
    }
   ],
   "source": [
    "test.density.unique()"
   ]
  },
  {
   "cell_type": "markdown",
   "id": "fbabfd52",
   "metadata": {
    "papermill": {
     "duration": 0.006202,
     "end_time": "2023-01-09T21:01:13.278701",
     "exception": false,
     "start_time": "2023-01-09T21:01:13.272499",
     "status": "completed"
    },
    "tags": []
   },
   "source": [
    "A brief review of each of the columns shows that each patient seems to have multiple images taken, the orientations of the image taken indicated by columns `laterality` / `view` , the diagnose given in columns `cancer`,`biopsy`,`invasive` are related to the specific images referenced in column `image_id` and the related patient in column `patient_id`."
   ]
  },
  {
   "cell_type": "markdown",
   "id": "85a0a239",
   "metadata": {
    "papermill": {
     "duration": 0.004788,
     "end_time": "2023-01-09T21:01:13.288617",
     "exception": false,
     "start_time": "2023-01-09T21:01:13.283829",
     "status": "completed"
    },
    "tags": []
   },
   "source": [
    "## **1.1 Further Data Check**\n",
    "In this section we will check for `null`, `unique` and `duplicated` values will allow for better understanding of the data held within the subject `csv` file."
   ]
  },
  {
   "cell_type": "code",
   "execution_count": 6,
   "id": "e75446de",
   "metadata": {
    "execution": {
     "iopub.execute_input": "2023-01-09T21:01:13.300545Z",
     "iopub.status.busy": "2023-01-09T21:01:13.299955Z",
     "iopub.status.idle": "2023-01-09T21:01:14.314831Z",
     "shell.execute_reply": "2023-01-09T21:01:14.312372Z"
    },
    "papermill": {
     "duration": 1.025151,
     "end_time": "2023-01-09T21:01:14.318783",
     "exception": false,
     "start_time": "2023-01-09T21:01:13.293632",
     "status": "completed"
    },
    "tags": []
   },
   "outputs": [
    {
     "name": "stdout",
     "output_type": "stream",
     "text": [
      "There is a total of 0 duplicated rows\n"
     ]
    },
    {
     "data": {
      "image/png": "[encoded data removed]",
      "text/plain": [
       "<Figure size 648x648 with 2 Axes>"
      ]
     },
     "metadata": {
      "needs_background": "light"
     },
     "output_type": "display_data"
    },
    {
     "data": {
      "text/html": [
       "<div>\n",
       "<style scoped>\n",
       "    .dataframe tbody tr th:only-of-type {\n",
       "        vertical-align: middle;\n",
       "    }\n",
       "\n",
       "    .dataframe tbody tr th {\n",
       "        vertical-align: top;\n",
       "    }\n",
       "\n",
       "    .dataframe thead th {\n",
       "        text-align: right;\n",
       "    }\n",
       "</style>\n",
       "<table border=\"1\" class=\"dataframe\">\n",
       "  <thead>\n",
       "    <tr style=\"text-align: right;\">\n",
       "      <th></th>\n",
       "      <th>site_id</th>\n",
       "      <th>patient_id</th>\n",
       "      <th>image_id</th>\n",
       "      <th>laterality</th>\n",
       "      <th>view</th>\n",
       "      <th>age</th>\n",
       "      <th>cancer</th>\n",
       "      <th>biopsy</th>\n",
       "      <th>invasive</th>\n",
       "      <th>BIRADS</th>\n",
       "      <th>implant</th>\n",
       "      <th>density</th>\n",
       "      <th>machine_id</th>\n",
       "      <th>difficult_negative_case</th>\n",
       "    </tr>\n",
       "  </thead>\n",
       "  <tbody>\n",
       "    <tr>\n",
       "      <th>Null Values</th>\n",
       "      <td>0</td>\n",
       "      <td>0</td>\n",
       "      <td>0</td>\n",
       "      <td>0</td>\n",
       "      <td>0</td>\n",
       "      <td>37</td>\n",
       "      <td>0</td>\n",
       "      <td>0</td>\n",
       "      <td>0</td>\n",
       "      <td>28420</td>\n",
       "      <td>0</td>\n",
       "      <td>25236</td>\n",
       "      <td>0</td>\n",
       "      <td>0</td>\n",
       "    </tr>\n",
       "    <tr>\n",
       "      <th>Unique Values</th>\n",
       "      <td>2</td>\n",
       "      <td>11913</td>\n",
       "      <td>54706</td>\n",
       "      <td>2</td>\n",
       "      <td>6</td>\n",
       "      <td>63</td>\n",
       "      <td>2</td>\n",
       "      <td>2</td>\n",
       "      <td>2</td>\n",
       "      <td>3</td>\n",
       "      <td>2</td>\n",
       "      <td>4</td>\n",
       "      <td>10</td>\n",
       "      <td>2</td>\n",
       "    </tr>\n",
       "  </tbody>\n",
       "</table>\n",
       "</div>"
      ],
      "text/plain": [
       "               site_id  patient_id  image_id  laterality  view  age  cancer  \\\n",
       "Null Values          0           0         0           0     0   37       0   \n",
       "Unique Values        2       11913     54706           2     6   63       2   \n",
       "\n",
       "               biopsy  invasive  BIRADS  implant  density  machine_id  \\\n",
       "Null Values         0         0   28420        0    25236           0   \n",
       "Unique Values       2         2       3        2        4          10   \n",
       "\n",
       "               difficult_negative_case  \n",
       "Null Values                          0  \n",
       "Unique Values                        2  "
      ]
     },
     "execution_count": 6,
     "metadata": {},
     "output_type": "execute_result"
    }
   ],
   "source": [
    "# Duplicate Values\n",
    "print(f\"There is a total of {train_df.duplicated().replace({True:1,False:0}).sum()} duplicated rows\")\n",
    "\n",
    "# Create seperate dataframe for null values and unique values\n",
    "na_vals=pd.DataFrame({'Null Values':train_df.isna().sum()})\n",
    "unique_vals=pd.DataFrame({'Unique Values':train_df.nunique()})\n",
    "\n",
    "# Visualisation \n",
    "fig, ax=plt.subplots(2,1, figsize=(9,9), gridspec_kw={'hspace':0.9})\n",
    "na_vals.plot.bar(color=barcolors[3], **barstyle, ax=ax[0])\n",
    "ax[0].set_title('Breast Cancer Dataset (Null Values Check)')\n",
    "ax[0].set_facecolor(\"white\")\n",
    "ax[0].set_yscale('log')\n",
    "ax[0].set_xticklabels(ax[0].get_xticklabels(), rotation=90)\n",
    "\n",
    "unique_vals.plot.bar(color=barcolors[6], **barstyle, ax=ax[1])\n",
    "ax[1].set_title('Breast Cancer Dataset (Unique Values Check)')\n",
    "ax[1].set_facecolor(\"white\")\n",
    "ax[1].set_yscale('log')\n",
    "ax[1].set_xticklabels(ax[1].get_xticklabels(), rotation=90)\n",
    "plt.show()\n",
    "\n",
    "# Print dataframes\n",
    "pd.concat([na_vals, unique_vals], axis=1).T"
   ]
  },
  {
   "cell_type": "markdown",
   "id": "b1d8fcc2",
   "metadata": {
    "papermill": {
     "duration": 0.007399,
     "end_time": "2023-01-09T21:01:14.332799",
     "exception": false,
     "start_time": "2023-01-09T21:01:14.325400",
     "status": "completed"
    },
    "tags": []
   },
   "source": [
    "Columns `age`, `BIRADS` and `density` contain null values with the most significant numbers in the later two mentioned columns. "
   ]
  },
  {
   "cell_type": "code",
   "execution_count": 7,
   "id": "8f5a3900",
   "metadata": {
    "execution": {
     "iopub.execute_input": "2023-01-09T21:01:14.350398Z",
     "iopub.status.busy": "2023-01-09T21:01:14.350013Z",
     "iopub.status.idle": "2023-01-09T21:01:14.363835Z",
     "shell.execute_reply": "2023-01-09T21:01:14.362829Z"
    },
    "papermill": {
     "duration": 0.025074,
     "end_time": "2023-01-09T21:01:14.366391",
     "exception": false,
     "start_time": "2023-01-09T21:01:14.341317",
     "status": "completed"
    },
    "tags": []
   },
   "outputs": [],
   "source": [
    "import matplotlib.pyplot as plt\n",
    "import pandas as pd\n",
    "\n",
    "def plot_ones_zeros(df, col1, col2, number):\n",
    "    # Get the unique values in col2\n",
    "    unique_values = df[col2].unique()\n",
    "    \n",
    "    # Set up the plot\n",
    "    fig, ax = plt.subplots(figsize=(9, 4))\n",
    "    ax.set_xlabel(col2)\n",
    "    ax.set_ylabel('Count')\n",
    "    ax.set_title(f'Breast Cancer Dataset (Data Imbalance Check #{number})')\n",
    "    \n",
    "    # Create a bar plot for each value in col2\n",
    "    for i, value in enumerate(unique_values):\n",
    "        # Count the number of 1s and 0s in col1 where col2 is equal to the current value\n",
    "        ones = df[(df[col1] == 1) & (df[col2] == value)].shape[0]\n",
    "        zeros = df[(df[col1] == 0) & (df[col2] == value)].shape[0]\n",
    "        \n",
    "        # Plot the bars\n",
    "        ax.bar(i-0.2, ones, 0.4, color = barcolors[1], **barstyle,)\n",
    "        ax.bar(i+0.2, zeros, 0.4, color = barcolors[2], **barstyle,)\n",
    "    \n",
    "    # Add a legend\n",
    "    ax.legend(['postive', 'negative'])\n",
    "    \n",
    "    # Show the plot\n",
    "    plt.xticks(range(len(unique_values)), unique_values)\n",
    "    plt.show()\n",
    "    \n",
    "def plot_ones_zeros_ratio(df, col1, col2, number):\n",
    "    # Get the unique values in col2\n",
    "    unique_values = df[col2].unique()\n",
    "    \n",
    "    # Set up the plot\n",
    "    fig, ax = plt.subplots(figsize=(9, 4))\n",
    "    ax.set_xlabel(col2)\n",
    "    ax.set_ylabel('Percentage')\n",
    "    ax.set_title(f'Breast Cancer Dataset (Data Imbalance Check #{number})')\n",
    "    \n",
    "    # Create a bar plot for each value in col2\n",
    "    for i, value in enumerate(unique_values):\n",
    "        # Count the number of 1s and 0s in col1 where col2 is equal to the current value\n",
    "        ones = df[(df[col1] == 1) & (df[col2] == value)].shape[0]\n",
    "        zeros = df[(df[col1] == 0) & (df[col2] == value)].shape[0]\n",
    "        ratio = ones/zeros\n",
    "        \n",
    "        # Plot the bars\n",
    "        ax.bar(i, ones/zeros, 0.4, color = barcolors[4], **barstyle,)\n",
    "        \n",
    "        # Add the values for each bar\n",
    "        ax.text(i, ones/zeros, f'{ones/zeros:.3f}', ha='center', va='bottom', fontweight='bold')\n",
    "    \n",
    "    # Add a legend\n",
    "    ax.legend(['ratio'])\n",
    "    \n",
    "    # Show the plot\n",
    "    plt.xticks(range(len(unique_values)), unique_values)\n",
    "    plt.show()"
   ]
  },
  {
   "cell_type": "code",
   "execution_count": 8,
   "id": "febb1460",
   "metadata": {
    "execution": {
     "iopub.execute_input": "2023-01-09T21:01:14.381835Z",
     "iopub.status.busy": "2023-01-09T21:01:14.381463Z",
     "iopub.status.idle": "2023-01-09T21:01:14.820965Z",
     "shell.execute_reply": "2023-01-09T21:01:14.819892Z"
    },
    "papermill": {
     "duration": 0.450302,
     "end_time": "2023-01-09T21:01:14.823634",
     "exception": false,
     "start_time": "2023-01-09T21:01:14.373332",
     "status": "completed"
    },
    "tags": []
   },
   "outputs": [
    {
     "data": {
      "image/png": "[encoded data removed]",
      "text/plain": [
       "<Figure size 648x288 with 1 Axes>"
      ]
     },
     "metadata": {
      "needs_background": "light"
     },
     "output_type": "display_data"
    },
    {
     "data": {
      "image/png": "[encoded data removed]",
      "text/plain": [
       "<Figure size 648x288 with 1 Axes>"
      ]
     },
     "metadata": {
      "needs_background": "light"
     },
     "output_type": "display_data"
    }
   ],
   "source": [
    "plot_ones_zeros(train_df, 'cancer', 'machine_id',1)\n",
    "plot_ones_zeros_ratio(train_df, 'cancer', 'machine_id',2)"
   ]
  },
  {
   "cell_type": "code",
   "execution_count": 9,
   "id": "b31fea3b",
   "metadata": {
    "execution": {
     "iopub.execute_input": "2023-01-09T21:01:14.838359Z",
     "iopub.status.busy": "2023-01-09T21:01:14.837976Z",
     "iopub.status.idle": "2023-01-09T21:01:15.366842Z",
     "shell.execute_reply": "2023-01-09T21:01:15.365791Z"
    },
    "papermill": {
     "duration": 0.539351,
     "end_time": "2023-01-09T21:01:15.369866",
     "exception": false,
     "start_time": "2023-01-09T21:01:14.830515",
     "status": "completed"
    },
    "tags": []
   },
   "outputs": [
    {
     "data": {
      "image/png": "[encoded data removed]",
      "text/plain": [
       "<Figure size 648x288 with 1 Axes>"
      ]
     },
     "metadata": {
      "needs_background": "light"
     },
     "output_type": "display_data"
    },
    {
     "data": {
      "image/png": "[encoded data removed]",
      "text/plain": [
       "<Figure size 648x288 with 1 Axes>"
      ]
     },
     "metadata": {
      "needs_background": "light"
     },
     "output_type": "display_data"
    },
    {
     "data": {
      "image/png": "[encoded data removed]",
      "text/plain": [
       "<Figure size 648x288 with 1 Axes>"
      ]
     },
     "metadata": {
      "needs_background": "light"
     },
     "output_type": "display_data"
    }
   ],
   "source": [
    "plot_ones_zeros(train_df, 'cancer', 'view',3)\n",
    "plot_ones_zeros(train_df, 'cancer', 'laterality',4)\n",
    "plot_ones_zeros(train_df, 'cancer', 'site_id',5)"
   ]
  },
  {
   "cell_type": "code",
   "execution_count": 10,
   "id": "021f319d",
   "metadata": {
    "execution": {
     "iopub.execute_input": "2023-01-09T21:01:15.386920Z",
     "iopub.status.busy": "2023-01-09T21:01:15.386582Z",
     "iopub.status.idle": "2023-01-09T21:01:15.639888Z",
     "shell.execute_reply": "2023-01-09T21:01:15.638525Z"
    },
    "papermill": {
     "duration": 0.263769,
     "end_time": "2023-01-09T21:01:15.641915",
     "exception": false,
     "start_time": "2023-01-09T21:01:15.378146",
     "status": "completed"
    },
    "tags": []
   },
   "outputs": [
    {
     "data": {
      "image/png": "[encoded data removed]",
      "text/plain": [
       "<Figure size 648x432 with 2 Axes>"
      ]
     },
     "metadata": {
      "needs_background": "light"
     },
     "output_type": "display_data"
    }
   ],
   "source": [
    "# Calculate the correlations between the columns\n",
    "corr = train_df.corr()\n",
    "\n",
    "# Set up the plot\n",
    "fig, ax = plt.subplots(figsize=(9, 6))\n",
    "ax.set_title('Correlation Matrix')\n",
    "\n",
    "# Create a heatmap from the correlations\n",
    "im = ax.imshow(corr)\n",
    "\n",
    "# Add a colorbar\n",
    "cbar = ax.figure.colorbar(im, ax=ax)\n",
    "\n",
    "# Set the labels for the x and y ticks\n",
    "ax.set_xticks(range(len(corr)))\n",
    "ax.set_yticks(range(len(corr)))\n",
    "ax.set_xticklabels(corr.columns)\n",
    "ax.set_yticklabels(corr.columns)\n",
    "\n",
    "# Rotate the x labels to avoid overlapping\n",
    "plt.setp(ax.get_xticklabels(), rotation=45, ha=\"right\", rotation_mode=\"anchor\")\n",
    "\n",
    "# Show the plot\n",
    "plt.show()"
   ]
  },
  {
   "cell_type": "code",
   "execution_count": 11,
   "id": "1e26d8f6",
   "metadata": {
    "execution": {
     "iopub.execute_input": "2023-01-09T21:01:15.659071Z",
     "iopub.status.busy": "2023-01-09T21:01:15.658705Z",
     "iopub.status.idle": "2023-01-09T21:01:15.683653Z",
     "shell.execute_reply": "2023-01-09T21:01:15.682521Z"
    },
    "papermill": {
     "duration": 0.036276,
     "end_time": "2023-01-09T21:01:15.685676",
     "exception": false,
     "start_time": "2023-01-09T21:01:15.649400",
     "status": "completed"
    },
    "tags": []
   },
   "outputs": [
    {
     "data": {
      "text/html": [
       "<div>\n",
       "<style scoped>\n",
       "    .dataframe tbody tr th:only-of-type {\n",
       "        vertical-align: middle;\n",
       "    }\n",
       "\n",
       "    .dataframe tbody tr th {\n",
       "        vertical-align: top;\n",
       "    }\n",
       "\n",
       "    .dataframe thead th {\n",
       "        text-align: right;\n",
       "    }\n",
       "</style>\n",
       "<table border=\"1\" class=\"dataframe\">\n",
       "  <thead>\n",
       "    <tr style=\"text-align: right;\">\n",
       "      <th></th>\n",
       "      <th>site_id</th>\n",
       "      <th>patient_id</th>\n",
       "      <th>image_id</th>\n",
       "      <th>laterality</th>\n",
       "      <th>view</th>\n",
       "      <th>age</th>\n",
       "      <th>cancer</th>\n",
       "      <th>biopsy</th>\n",
       "      <th>invasive</th>\n",
       "      <th>BIRADS</th>\n",
       "      <th>implant</th>\n",
       "      <th>density</th>\n",
       "      <th>machine_id</th>\n",
       "      <th>difficult_negative_case</th>\n",
       "    </tr>\n",
       "  </thead>\n",
       "  <tbody>\n",
       "    <tr>\n",
       "      <th>87</th>\n",
       "      <td>1</td>\n",
       "      <td>10130</td>\n",
       "      <td>388811999</td>\n",
       "      <td>L</td>\n",
       "      <td>MLO</td>\n",
       "      <td>71.0</td>\n",
       "      <td>1</td>\n",
       "      <td>1</td>\n",
       "      <td>1</td>\n",
       "      <td>0.0</td>\n",
       "      <td>0</td>\n",
       "      <td>B</td>\n",
       "      <td>49</td>\n",
       "      <td>False</td>\n",
       "    </tr>\n",
       "    <tr>\n",
       "      <th>88</th>\n",
       "      <td>1</td>\n",
       "      <td>10130</td>\n",
       "      <td>613462606</td>\n",
       "      <td>L</td>\n",
       "      <td>CC</td>\n",
       "      <td>71.0</td>\n",
       "      <td>1</td>\n",
       "      <td>1</td>\n",
       "      <td>1</td>\n",
       "      <td>0.0</td>\n",
       "      <td>0</td>\n",
       "      <td>B</td>\n",
       "      <td>49</td>\n",
       "      <td>False</td>\n",
       "    </tr>\n",
       "    <tr>\n",
       "      <th>89</th>\n",
       "      <td>1</td>\n",
       "      <td>10130</td>\n",
       "      <td>1360338805</td>\n",
       "      <td>L</td>\n",
       "      <td>CC</td>\n",
       "      <td>71.0</td>\n",
       "      <td>1</td>\n",
       "      <td>1</td>\n",
       "      <td>1</td>\n",
       "      <td>0.0</td>\n",
       "      <td>0</td>\n",
       "      <td>B</td>\n",
       "      <td>49</td>\n",
       "      <td>False</td>\n",
       "    </tr>\n",
       "    <tr>\n",
       "      <th>90</th>\n",
       "      <td>1</td>\n",
       "      <td>10130</td>\n",
       "      <td>1672636630</td>\n",
       "      <td>L</td>\n",
       "      <td>MLO</td>\n",
       "      <td>71.0</td>\n",
       "      <td>1</td>\n",
       "      <td>1</td>\n",
       "      <td>1</td>\n",
       "      <td>0.0</td>\n",
       "      <td>0</td>\n",
       "      <td>B</td>\n",
       "      <td>49</td>\n",
       "      <td>False</td>\n",
       "    </tr>\n",
       "    <tr>\n",
       "      <th>190</th>\n",
       "      <td>1</td>\n",
       "      <td>10226</td>\n",
       "      <td>461614796</td>\n",
       "      <td>L</td>\n",
       "      <td>MLO</td>\n",
       "      <td>71.0</td>\n",
       "      <td>1</td>\n",
       "      <td>1</td>\n",
       "      <td>1</td>\n",
       "      <td>0.0</td>\n",
       "      <td>0</td>\n",
       "      <td>C</td>\n",
       "      <td>49</td>\n",
       "      <td>False</td>\n",
       "    </tr>\n",
       "    <tr>\n",
       "      <th>...</th>\n",
       "      <td>...</td>\n",
       "      <td>...</td>\n",
       "      <td>...</td>\n",
       "      <td>...</td>\n",
       "      <td>...</td>\n",
       "      <td>...</td>\n",
       "      <td>...</td>\n",
       "      <td>...</td>\n",
       "      <td>...</td>\n",
       "      <td>...</td>\n",
       "      <td>...</td>\n",
       "      <td>...</td>\n",
       "      <td>...</td>\n",
       "      <td>...</td>\n",
       "    </tr>\n",
       "    <tr>\n",
       "      <th>54289</th>\n",
       "      <td>1</td>\n",
       "      <td>9481</td>\n",
       "      <td>1448380165</td>\n",
       "      <td>L</td>\n",
       "      <td>CC</td>\n",
       "      <td>64.0</td>\n",
       "      <td>1</td>\n",
       "      <td>1</td>\n",
       "      <td>1</td>\n",
       "      <td>0.0</td>\n",
       "      <td>0</td>\n",
       "      <td>C</td>\n",
       "      <td>49</td>\n",
       "      <td>False</td>\n",
       "    </tr>\n",
       "    <tr>\n",
       "      <th>54290</th>\n",
       "      <td>1</td>\n",
       "      <td>9481</td>\n",
       "      <td>1662311140</td>\n",
       "      <td>L</td>\n",
       "      <td>CC</td>\n",
       "      <td>64.0</td>\n",
       "      <td>1</td>\n",
       "      <td>1</td>\n",
       "      <td>1</td>\n",
       "      <td>0.0</td>\n",
       "      <td>0</td>\n",
       "      <td>C</td>\n",
       "      <td>49</td>\n",
       "      <td>False</td>\n",
       "    </tr>\n",
       "    <tr>\n",
       "      <th>54350</th>\n",
       "      <td>1</td>\n",
       "      <td>9559</td>\n",
       "      <td>203061242</td>\n",
       "      <td>L</td>\n",
       "      <td>CC</td>\n",
       "      <td>76.0</td>\n",
       "      <td>1</td>\n",
       "      <td>1</td>\n",
       "      <td>1</td>\n",
       "      <td>0.0</td>\n",
       "      <td>0</td>\n",
       "      <td>B</td>\n",
       "      <td>49</td>\n",
       "      <td>False</td>\n",
       "    </tr>\n",
       "    <tr>\n",
       "      <th>54351</th>\n",
       "      <td>1</td>\n",
       "      <td>9559</td>\n",
       "      <td>1047452753</td>\n",
       "      <td>L</td>\n",
       "      <td>MLO</td>\n",
       "      <td>76.0</td>\n",
       "      <td>1</td>\n",
       "      <td>1</td>\n",
       "      <td>1</td>\n",
       "      <td>0.0</td>\n",
       "      <td>0</td>\n",
       "      <td>B</td>\n",
       "      <td>49</td>\n",
       "      <td>False</td>\n",
       "    </tr>\n",
       "    <tr>\n",
       "      <th>54352</th>\n",
       "      <td>1</td>\n",
       "      <td>9559</td>\n",
       "      <td>1174804734</td>\n",
       "      <td>L</td>\n",
       "      <td>MLO</td>\n",
       "      <td>76.0</td>\n",
       "      <td>1</td>\n",
       "      <td>1</td>\n",
       "      <td>1</td>\n",
       "      <td>0.0</td>\n",
       "      <td>0</td>\n",
       "      <td>B</td>\n",
       "      <td>49</td>\n",
       "      <td>False</td>\n",
       "    </tr>\n",
       "  </tbody>\n",
       "</table>\n",
       "<p>664 rows × 14 columns</p>\n",
       "</div>"
      ],
      "text/plain": [
       "       site_id  patient_id    image_id laterality view   age  cancer  biopsy  \\\n",
       "87           1       10130   388811999          L  MLO  71.0       1       1   \n",
       "88           1       10130   613462606          L   CC  71.0       1       1   \n",
       "89           1       10130  1360338805          L   CC  71.0       1       1   \n",
       "90           1       10130  1672636630          L  MLO  71.0       1       1   \n",
       "190          1       10226   461614796          L  MLO  71.0       1       1   \n",
       "...        ...         ...         ...        ...  ...   ...     ...     ...   \n",
       "54289        1        9481  1448380165          L   CC  64.0       1       1   \n",
       "54290        1        9481  1662311140          L   CC  64.0       1       1   \n",
       "54350        1        9559   203061242          L   CC  76.0       1       1   \n",
       "54351        1        9559  1047452753          L  MLO  76.0       1       1   \n",
       "54352        1        9559  1174804734          L  MLO  76.0       1       1   \n",
       "\n",
       "       invasive  BIRADS  implant density  machine_id  difficult_negative_case  \n",
       "87            1     0.0        0       B          49                    False  \n",
       "88            1     0.0        0       B          49                    False  \n",
       "89            1     0.0        0       B          49                    False  \n",
       "90            1     0.0        0       B          49                    False  \n",
       "190           1     0.0        0       C          49                    False  \n",
       "...         ...     ...      ...     ...         ...                      ...  \n",
       "54289         1     0.0        0       C          49                    False  \n",
       "54290         1     0.0        0       C          49                    False  \n",
       "54350         1     0.0        0       B          49                    False  \n",
       "54351         1     0.0        0       B          49                    False  \n",
       "54352         1     0.0        0       B          49                    False  \n",
       "\n",
       "[664 rows x 14 columns]"
      ]
     },
     "execution_count": 11,
     "metadata": {},
     "output_type": "execute_result"
    }
   ],
   "source": [
    "train_df[(train_df['cancer'] == 1) & (train_df['site_id'])]"
   ]
  },
  {
   "cell_type": "code",
   "execution_count": 12,
   "id": "0ad3d0b7",
   "metadata": {
    "execution": {
     "iopub.execute_input": "2023-01-09T21:01:15.703328Z",
     "iopub.status.busy": "2023-01-09T21:01:15.702307Z",
     "iopub.status.idle": "2023-01-09T21:01:15.716687Z",
     "shell.execute_reply": "2023-01-09T21:01:15.715578Z"
    },
    "papermill": {
     "duration": 0.025794,
     "end_time": "2023-01-09T21:01:15.719167",
     "exception": false,
     "start_time": "2023-01-09T21:01:15.693373",
     "status": "completed"
    },
    "tags": []
   },
   "outputs": [],
   "source": [
    "sites_df=train_df[['site_id','cancer']]\n",
    "sites=pd.DataFrame(sites_df.groupby(['site_id'])['cancer'].sum().sort_values(ascending=False))\n",
    "sites=sites.reset_index()\n",
    "sitelst=sites.site_id.to_list()"
   ]
  },
  {
   "cell_type": "code",
   "execution_count": 13,
   "id": "0904f518",
   "metadata": {
    "execution": {
     "iopub.execute_input": "2023-01-09T21:01:15.737383Z",
     "iopub.status.busy": "2023-01-09T21:01:15.736773Z",
     "iopub.status.idle": "2023-01-09T21:01:15.745824Z",
     "shell.execute_reply": "2023-01-09T21:01:15.744804Z"
    },
    "papermill": {
     "duration": 0.020465,
     "end_time": "2023-01-09T21:01:15.747988",
     "exception": false,
     "start_time": "2023-01-09T21:01:15.727523",
     "status": "completed"
    },
    "tags": []
   },
   "outputs": [],
   "source": [
    "sites_df=train_df[['site_id','cancer']]\n",
    "sites=pd.DataFrame(sites_df.groupby(['site_id'])['cancer'].sum().sort_values(ascending=False))\n",
    "sites=sites.reset_index()\n",
    "sitelst=sites.site_id.to_list()"
   ]
  },
  {
   "cell_type": "code",
   "execution_count": null,
   "id": "8f09be6b",
   "metadata": {
    "papermill": {
     "duration": 0.007302,
     "end_time": "2023-01-09T21:01:15.763182",
     "exception": false,
     "start_time": "2023-01-09T21:01:15.755880",
     "status": "completed"
    },
    "tags": []
   },
   "outputs": [],
   "source": []
  },
  {
   "cell_type": "markdown",
   "id": "994bb52a",
   "metadata": {
    "papermill": {
     "duration": 0.007552,
     "end_time": "2023-01-09T21:01:15.778641",
     "exception": false,
     "start_time": "2023-01-09T21:01:15.771089",
     "status": "completed"
    },
    "tags": []
   },
   "source": [
    "source_df=pd.concat([tweets_biden[['source','tweet','country']].copy(),tweets_trump[['source','tweet','country']].copy()])\n",
    "source_df['country'].replace({'United States of America':'United States'}, inplace=True)\n",
    "source_df=source_df.fillna('Geo Data NA')\n",
    "source_df=source_df.drop_duplicates()\n",
    "\n",
    "sources=pd.DataFrame(source_df.groupby(['source'])['tweet'].count().sort_values(ascending=False)[:6])\n",
    "sources=sources.reset_index()\n",
    "sourceslst=sources.source.to_list()\n",
    "\n",
    "country=pd.DataFrame(source_df.groupby(['country'])['tweet'].count().sort_values(ascending=False)[:6])\n",
    "country=country.reset_index()\n",
    "countrylst=country.country.to_list()\n",
    "\n",
    "platXtab=pd.DataFrame(source_df.groupby(['source','country'])['tweet'].count().unstack().fillna(0))\n",
    "\n",
    "fig, ax=plt.subplots(2,2, figsize=(9,9), \n",
    "                     gridspec_kw={'height_ratios':[2,5], 'width_ratios':[2,5], 'wspace':0.1, 'hspace':0.1})\n",
    "\n",
    "hide_ax = ax[0,0]\n",
    "hide_axes(hide_ax)\n",
    "\n",
    "hm_ax = ax[1,1]\n",
    "draw_heatmap1(platXtab.loc[sourceslst,countrylst], hm_ax)\n",
    "hm_ax.set_xlabel('tweets country of origin')\n",
    "hm_ax.set_ylabel('platform used for tweets')\n",
    "hm_ax.set_yticklabels(('Twitter Web','iPhone','Android','iPad','TweetDeck','Hootsuite'), rotation=0) \n",
    "\n",
    "bar_ax = ax[0,1]\n",
    "platXtab.loc[sourceslst,countrylst].sum().plot.bar(ax=bar_ax, color=barcolors[1],**barstyle)\n",
    "bar_ax.set_xlabel(bar_ax.get_xlabel())\n",
    "bar_ax.xaxis.tick_top()\n",
    "bar_ax.xaxis.set_label_position(\"top\")\n",
    "bar_ax.yaxis.set_major_formatter(formatterK1)\n",
    "bar_ax.set_xticklabels(('NA', 'US', 'UK', 'CAN', 'GE','FRA'), rotation=0) \n",
    "bar_ax.set_xlabel('')\n",
    "bar_ax.set_ylabel('# tweets')\n",
    "\n",
    "barh_ax = ax[1,0]\n",
    "platXtab.loc[sourceslst,countrylst].sum(axis=1)[::-1].plot.barh(ax=barh_ax, color=barcolors[2],**barstyle)\n",
    "barh_ax.yaxis.set_label_position(\"left\")\n",
    "barh_ax.xaxis.tick_top()\n",
    "barh_ax.xaxis.set_label_position(\"top\")\n",
    "barh_ax.xaxis.set_major_formatter(formatterK1)\n",
    "barh_ax.set_xlim(barh_ax.get_xlim()[::-1])\n",
    "barh_ax.set_yticklabels(('Hootsuite','TweetDeck','iPad','Android','iPhone','Twitter Web'), rotation=0) \n",
    "barh_ax.set_xlabel('# tweets')\n",
    "barh_ax.set_ylabel('')\n",
    "plt.show()"
   ]
  }
 ],
 "metadata": {
  "kernelspec": {
   "display_name": "Python 3",
   "language": "python",
   "name": "python3"
  },
  "language_info": {
   "codemirror_mode": {
    "name": "ipython",
    "version": 3
   },
   "file_extension": ".py",
   "mimetype": "text/x-python",
   "name": "python",
   "nbconvert_exporter": "python",
   "pygments_lexer": "ipython3",
   "version": "3.7.12"
  },
  "papermill": {
   "default_parameters": {},
   "duration": 12.583559,
   "end_time": "2023-01-09T21:01:16.613214",
   "environment_variables": {},
   "exception": null,
   "input_path": "__notebook__.ipynb",
   "output_path": "__notebook__.ipynb",
   "parameters": {},
   "start_time": "2023-01-09T21:01:04.029655",
   "version": "2.3.4"
  }
 },
 "nbformat": 4,
 "nbformat_minor": 5
}
